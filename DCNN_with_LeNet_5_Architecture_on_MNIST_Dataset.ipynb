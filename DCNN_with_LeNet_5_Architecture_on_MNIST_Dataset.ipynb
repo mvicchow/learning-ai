{
  "cells": [
    {
      "cell_type": "markdown",
      "metadata": {
        "id": "view-in-github",
        "colab_type": "text"
      },
      "source": [
        "<a href=\"https://colab.research.google.com/github/mvicchow/learning-ai/blob/main/DCNN_with_LeNet_5_Architecture_on_MNIST_Dataset.ipynb\" target=\"_parent\"><img src=\"https://colab.research.google.com/assets/colab-badge.svg\" alt=\"Open In Colab\"/></a>"
      ]
    },
    {
      "cell_type": "markdown",
      "metadata": {
        "id": "Sqng8aFK6wr7"
      },
      "source": [
        "# Library Installation"
      ]
    },
    {
      "cell_type": "code",
      "execution_count": 1,
      "metadata": {
        "id": "Wm76zGc7WLeB",
        "colab": {
          "base_uri": "https://localhost:8080/"
        },
        "outputId": "f7e2390f-330c-4ea1-acdd-d305fe652deb"
      },
      "outputs": [
        {
          "output_type": "stream",
          "name": "stdout",
          "text": [
            "\u001b[?25l     \u001b[90m━━━━━━━━━━━━━━━━━━━━━━━━━━━━━━━━━━━━━━━━\u001b[0m \u001b[32m0.0/993.7 kB\u001b[0m \u001b[31m?\u001b[0m eta \u001b[36m-:--:--\u001b[0m\r\u001b[2K     \u001b[91m━\u001b[0m\u001b[91m╸\u001b[0m\u001b[90m━━━━━━━━━━━━━━━━━━━━━━━━━━━━━━━━━━━━━━\u001b[0m \u001b[32m41.0/993.7 kB\u001b[0m \u001b[31m1.2 MB/s\u001b[0m eta \u001b[36m0:00:01\u001b[0m\r\u001b[2K     \u001b[91m━━━━━━━━━━━━━━━━━━━━━━━━━\u001b[0m\u001b[90m╺\u001b[0m\u001b[90m━━━━━━━━━━━━━━\u001b[0m \u001b[32m624.6/993.7 kB\u001b[0m \u001b[31m9.4 MB/s\u001b[0m eta \u001b[36m0:00:01\u001b[0m\r\u001b[2K     \u001b[90m━━━━━━━━━━━━━━━━━━━━━━━━━━━━━━━━━━━━━━━━\u001b[0m \u001b[32m993.7/993.7 kB\u001b[0m \u001b[31m10.6 MB/s\u001b[0m eta \u001b[36m0:00:00\u001b[0m\n",
            "\u001b[?25h"
          ]
        }
      ],
      "source": [
        "!pip install -q visualkeras"
      ]
    },
    {
      "cell_type": "markdown",
      "metadata": {
        "id": "TLMYGXq-6zAq"
      },
      "source": [
        "# Import Library"
      ]
    },
    {
      "cell_type": "code",
      "execution_count": 2,
      "metadata": {
        "id": "lcoWDgK-MtwJ"
      },
      "outputs": [],
      "source": [
        "from sklearn.datasets import fetch_openml\n",
        "from sklearn.model_selection import train_test_split\n",
        "\n",
        "import pandas as pd\n",
        "import tensorflow as tf\n",
        "from tensorflow.keras import layers, Input\n",
        "from tensorflow.keras.models import Sequential\n",
        "from tensorflow.keras.utils import to_categorical\n",
        "from tensorflow.keras.losses import categorical_crossentropy\n",
        "import matplotlib.pyplot as plt\n",
        "import visualkeras"
      ]
    },
    {
      "cell_type": "markdown",
      "metadata": {
        "id": "XcGX1eAi68rQ"
      },
      "source": [
        "# Load Dataset"
      ]
    },
    {
      "cell_type": "code",
      "execution_count": 3,
      "metadata": {
        "colab": {
          "base_uri": "https://localhost:8080/"
        },
        "id": "e_ofwgdiESDu",
        "outputId": "07efac2e-104a-454e-8708-4e3e75696dee"
      },
      "outputs": [
        {
          "output_type": "stream",
          "name": "stderr",
          "text": [
            "/usr/local/lib/python3.10/dist-packages/sklearn/datasets/_openml.py:968: FutureWarning: The default value of `parser` will change from `'liac-arff'` to `'auto'` in 1.4. You can set `parser='auto'` to silence this warning. Therefore, an `ImportError` will be raised from 1.4 if the dataset is dense and pandas is not installed. Note that the pandas parser may return different data types. See the Notes Section in fetch_openml's API doc for details.\n",
            "  warn(\n"
          ]
        }
      ],
      "source": [
        "# Loading dataset from sklearn\n",
        "mnist = fetch_openml('mnist_784', version=1, cache=True)"
      ]
    },
    {
      "cell_type": "markdown",
      "metadata": {
        "id": "lsCUx0GmBTPy"
      },
      "source": [
        "--> Input shape nya 28 x 28 x 1, yang artinya width dan height dari image nya adalah 28 pixels dengan 1 channel warna"
      ]
    },
    {
      "cell_type": "code",
      "source": [
        "copy_mnist = mnist.copy()"
      ],
      "metadata": {
        "id": "X98gaxsAhTti"
      },
      "execution_count": 4,
      "outputs": []
    },
    {
      "cell_type": "markdown",
      "metadata": {
        "id": "BEuxbtFWJXCj"
      },
      "source": [
        "# Normalization"
      ]
    },
    {
      "cell_type": "code",
      "execution_count": 5,
      "metadata": {
        "colab": {
          "base_uri": "https://localhost:8080/"
        },
        "id": "aJTR8WrBI7H2",
        "outputId": "0d0d80b0-71bd-4d21-9e02-324dd52cb085"
      },
      "outputs": [
        {
          "output_type": "execute_result",
          "data": {
            "text/plain": [
              "255.0"
            ]
          },
          "metadata": {},
          "execution_count": 5
        }
      ],
      "source": [
        "# Checking the max value untuk setiap pixels dalam setiap images\n",
        "copy_mnist[\"data\"].max().max()"
      ]
    },
    {
      "cell_type": "code",
      "execution_count": 6,
      "metadata": {
        "colab": {
          "base_uri": "https://localhost:8080/"
        },
        "id": "LSs81OXaJdxG",
        "outputId": "fe4a60df-9704-4b0d-afa5-4fc0efc00285"
      },
      "outputs": [
        {
          "output_type": "execute_result",
          "data": {
            "text/plain": [
              "0.0"
            ]
          },
          "metadata": {},
          "execution_count": 6
        }
      ],
      "source": [
        "copy_mnist[\"data\"].min().min()"
      ]
    },
    {
      "cell_type": "markdown",
      "metadata": {
        "id": "rATxAwPhJWOA"
      },
      "source": [
        "Nilai min dan max pada data merepresentasikan value dari warna yang ada pada setiap pixel untuk suatu channel pada gambar yang biasanya rentang 0-255. Namun Untuk mempercepat proses komputasi yang kita lakukan dan juga menghemat ruang penyimpanan maka kita akan melakukan normalisasi, sehingga nilai warna dari setiap pixel berada pada rentang 0 sampai 1. (mencegah terjadinya perhitungan yang berlebihan)"
      ]
    },
    {
      "cell_type": "code",
      "execution_count": 7,
      "metadata": {
        "id": "bGLfvlteJ537"
      },
      "outputs": [],
      "source": [
        "copy_mnist[\"data\"] /= 255."
      ]
    },
    {
      "cell_type": "code",
      "execution_count": 8,
      "metadata": {
        "colab": {
          "base_uri": "https://localhost:8080/"
        },
        "id": "UAMjSHSGKTCC",
        "outputId": "520019da-4ecc-4b7f-c695-e238e59d5a41"
      },
      "outputs": [
        {
          "output_type": "execute_result",
          "data": {
            "text/plain": [
              "1.0"
            ]
          },
          "metadata": {},
          "execution_count": 8
        }
      ],
      "source": [
        "copy_mnist[\"data\"].max().max()"
      ]
    },
    {
      "cell_type": "code",
      "execution_count": 9,
      "metadata": {
        "colab": {
          "base_uri": "https://localhost:8080/"
        },
        "id": "0C1oHopyUgjm",
        "outputId": "d79e860d-63ed-4663-ba2d-63ea3ba60708"
      },
      "outputs": [
        {
          "output_type": "execute_result",
          "data": {
            "text/plain": [
              "0.0"
            ]
          },
          "metadata": {},
          "execution_count": 9
        }
      ],
      "source": [
        "copy_mnist[\"data\"].min().min()"
      ]
    },
    {
      "cell_type": "markdown",
      "metadata": {
        "id": "889h1ugrUhZz"
      },
      "source": [
        "sekarang nilai nya sudah ternormalisasikan menjadi diantara 0 sampai 1."
      ]
    },
    {
      "cell_type": "markdown",
      "metadata": {
        "id": "CA818_OkUhYz"
      },
      "source": [
        "# Reshaping data"
      ]
    },
    {
      "cell_type": "markdown",
      "metadata": {
        "id": "BU0oD0wjUrjY"
      },
      "source": [
        "Karena data yang diambil dari sklearn berupa dataframe 2 dimensi, dimana hanya merepresentasikan value untuk setiap pixels yang telah di flatten dari setiap field gambar.\n",
        "\n",
        "Dataset MNIST yang dimiliki mempunyai 784 columns, dimana sebenarnya data image MNIST merupakan data image 28x28\n",
        "\n",
        "Reshaping dilakukan agar dapat feed data image ke layer Convolutional 2 dimensi yang membutuhkan input 4 dimensi yang mana terdiri dari (N, H, W, C), dimana N merupakan batch size yang dimiliki, H merupakan tinggi dari gambar, W merupakan lebar dari gambar, dan C merupakan jumlah channel yang ada pada gambar."
      ]
    },
    {
      "cell_type": "code",
      "execution_count": 10,
      "metadata": {
        "colab": {
          "base_uri": "https://localhost:8080/"
        },
        "id": "uadEL9vYLZoS",
        "outputId": "42cbff0b-02d8-4abc-c3fe-b6dcc95f3b37"
      },
      "outputs": [
        {
          "output_type": "execute_result",
          "data": {
            "text/plain": [
              "(70000, 784)"
            ]
          },
          "metadata": {},
          "execution_count": 10
        }
      ],
      "source": [
        "copy_mnist[\"data\"].shape"
      ]
    },
    {
      "cell_type": "code",
      "execution_count": 11,
      "metadata": {
        "id": "hnLoXlzNMpjT"
      },
      "outputs": [],
      "source": [
        "copy_mnist[\"data\"] = copy_mnist[\"data\"].to_numpy().reshape(-1, 28, 28,1)"
      ]
    },
    {
      "cell_type": "code",
      "execution_count": 12,
      "metadata": {
        "colab": {
          "base_uri": "https://localhost:8080/"
        },
        "id": "8c0tU22vM8Ww",
        "outputId": "c36f6161-ec3f-4021-9a44-6db3128630ae"
      },
      "outputs": [
        {
          "output_type": "execute_result",
          "data": {
            "text/plain": [
              "(70000, 28, 28, 1)"
            ]
          },
          "metadata": {},
          "execution_count": 12
        }
      ],
      "source": [
        "copy_mnist[\"data\"].shape"
      ]
    },
    {
      "cell_type": "markdown",
      "source": [
        "Selain agar data kita dapat di terima oleh layer Conv2D, hal ini juga memungkinkan agar dapat memvisualisasikan sample data yang dimiliki oleh data pada saat menggunakan imread"
      ],
      "metadata": {
        "id": "ZjlGSQzMmxQA"
      }
    },
    {
      "cell_type": "code",
      "source": [
        "copy_mnist[\"target\"][8]"
      ],
      "metadata": {
        "colab": {
          "base_uri": "https://localhost:8080/",
          "height": 35
        },
        "id": "pinnahkZ5nyR",
        "outputId": "63e7d8c2-3e3a-4eb9-b352-29583a6006f8"
      },
      "execution_count": 13,
      "outputs": [
        {
          "output_type": "execute_result",
          "data": {
            "text/plain": [
              "'1'"
            ],
            "application/vnd.google.colaboratory.intrinsic+json": {
              "type": "string"
            }
          },
          "metadata": {},
          "execution_count": 13
        }
      ]
    },
    {
      "cell_type": "code",
      "execution_count": 14,
      "metadata": {
        "colab": {
          "base_uri": "https://localhost:8080/",
          "height": 430
        },
        "id": "SHaCa9MANc-u",
        "outputId": "5c384caa-9ed5-4266-8955-3abc52ff5e8b"
      },
      "outputs": [
        {
          "output_type": "display_data",
          "data": {
            "text/plain": [
              "<Figure size 640x480 with 1 Axes>"
            ],
            "image/png": "[encoded data removed]"
          },
          "metadata": {}
        }
      ],
      "source": [
        "plt.imshow(copy_mnist[\"data\"][8], cmap=\"gray\")\n",
        "plt.show()"
      ]
    },
    {
      "cell_type": "markdown",
      "metadata": {
        "id": "_t_kEZLeGdpB"
      },
      "source": [
        "# Convert label to categorical"
      ]
    },
    {
      "cell_type": "markdown",
      "source": [
        "Merubah bentuk data dari label menjadi distribusi probability, karena disini kita akan melakukan multiclass classification agar nantinya model dapat predict probabilities untuk setiap class yang ada."
      ],
      "metadata": {
        "id": "IJu1WP9xnXYW"
      }
    },
    {
      "cell_type": "code",
      "source": [
        "copy_mnist[\"target\"].shape"
      ],
      "metadata": {
        "colab": {
          "base_uri": "https://localhost:8080/"
        },
        "id": "ABHbv2LYnuZU",
        "outputId": "f252849a-918e-498b-9515-1aa3e9d203e1"
      },
      "execution_count": 15,
      "outputs": [
        {
          "output_type": "execute_result",
          "data": {
            "text/plain": [
              "(70000,)"
            ]
          },
          "metadata": {},
          "execution_count": 15
        }
      ]
    },
    {
      "cell_type": "code",
      "execution_count": 16,
      "metadata": {
        "id": "skDIGiu8GfaH"
      },
      "outputs": [],
      "source": [
        "copy_mnist[\"target\"] = to_categorical(copy_mnist[\"target\"])"
      ]
    },
    {
      "cell_type": "code",
      "source": [
        "copy_mnist[\"target\"].shape"
      ],
      "metadata": {
        "colab": {
          "base_uri": "https://localhost:8080/"
        },
        "id": "wFqJTX8dnvdq",
        "outputId": "82cbd996-1691-4441-c1b1-c9b644732461"
      },
      "execution_count": 17,
      "outputs": [
        {
          "output_type": "execute_result",
          "data": {
            "text/plain": [
              "(70000, 10)"
            ]
          },
          "metadata": {},
          "execution_count": 17
        }
      ]
    },
    {
      "cell_type": "markdown",
      "metadata": {
        "id": "Rtg38hA1BTOh"
      },
      "source": [
        "# Splitting training and testing dataset"
      ]
    },
    {
      "cell_type": "code",
      "execution_count": 35,
      "metadata": {
        "id": "cosSyQbX7dEd"
      },
      "outputs": [],
      "source": [
        "X_train, X_test, y_train, y_test = train_test_split(copy_mnist[\"data\"], copy_mnist[\"target\"], test_size=0.3, random_state=42)\n",
        "X_test, X_val, y_test, y_val = train_test_split(X_test, y_test, test_size=0.5, random_state=42)"
      ]
    },
    {
      "cell_type": "markdown",
      "metadata": {
        "id": "gIRY-SJQo2VT"
      },
      "source": [
        "# Modelling"
      ]
    },
    {
      "cell_type": "markdown",
      "source": [
        "https://en.wikipedia.org/wiki/LeNet\n",
        "\n",
        "LeNet-5 terdiri dari 7 layer"
      ],
      "metadata": {
        "id": "9QBY_rY9pTUm"
      }
    },
    {
      "cell_type": "code",
      "execution_count": 36,
      "metadata": {
        "id": "QvrlDaQso5Q_"
      },
      "outputs": [],
      "source": [
        "#param\n",
        "input_shape = X_train[0].shape\n",
        "\n",
        "# Model\n",
        "model = Sequential([\n",
        "    Input(shape=input_shape),\n",
        "\n",
        "    layers.Conv2D(6, (5,5), activation=\"sigmoid\", padding=\"same\"),\n",
        "    layers.MaxPooling2D(pool_size=(2,2)),\n",
        "\n",
        "    layers.Conv2D(16, (5,5), activation=\"sigmoid\"),\n",
        "    layers.MaxPooling2D(pool_size=(2,2)),\n",
        "\n",
        "    layers.Flatten(),\n",
        "\n",
        "    layers.Dense(120, activation=\"sigmoid\"),\n",
        "    layers.Dense(84, activation=\"sigmoid\"),\n",
        "\n",
        "    layers.Dense(10, activation=\"softmax\"),\n",
        "])"
      ]
    },
    {
      "cell_type": "markdown",
      "metadata": {
        "id": "5rhUal0icbo5"
      },
      "source": [
        "# Model compilation"
      ]
    },
    {
      "cell_type": "code",
      "execution_count": 37,
      "metadata": {
        "id": "TPcuJCcscbHV"
      },
      "outputs": [],
      "source": [
        "model.compile(loss='categorical_crossentropy', optimizer = 'adam', metrics = ['accuracy'])"
      ]
    },
    {
      "cell_type": "code",
      "source": [
        "model.summary()"
      ],
      "metadata": {
        "colab": {
          "base_uri": "https://localhost:8080/"
        },
        "id": "0Mq7I4U_9AP8",
        "outputId": "a2a2db6c-4b80-4349-b8af-f925be9d5d59"
      },
      "execution_count": 38,
      "outputs": [
        {
          "output_type": "stream",
          "name": "stdout",
          "text": [
            "Model: \"sequential_1\"\n",
            "_________________________________________________________________\n",
            " Layer (type)                Output Shape              Param #   \n",
            "=================================================================\n",
            " conv2d_2 (Conv2D)           (None, 28, 28, 6)         156       \n",
            "                                                                 \n",
            " max_pooling2d_2 (MaxPoolin  (None, 14, 14, 6)         0         \n",
            " g2D)                                                            \n",
            "                                                                 \n",
            " conv2d_3 (Conv2D)           (None, 10, 10, 16)        2416      \n",
            "                                                                 \n",
            " max_pooling2d_3 (MaxPoolin  (None, 5, 5, 16)          0         \n",
            " g2D)                                                            \n",
            "                                                                 \n",
            " flatten_1 (Flatten)         (None, 400)               0         \n",
            "                                                                 \n",
            " dense_3 (Dense)             (None, 120)               48120     \n",
            "                                                                 \n",
            " dense_4 (Dense)             (None, 84)                10164     \n",
            "                                                                 \n",
            " dense_5 (Dense)             (None, 10)                850       \n",
            "                                                                 \n",
            "=================================================================\n",
            "Total params: 61706 (241.04 KB)\n",
            "Trainable params: 61706 (241.04 KB)\n",
            "Non-trainable params: 0 (0.00 Byte)\n",
            "_________________________________________________________________\n"
          ]
        }
      ]
    },
    {
      "cell_type": "markdown",
      "source": [
        "# Training Model"
      ],
      "metadata": {
        "id": "dOCXQvjufd0L"
      }
    },
    {
      "cell_type": "code",
      "source": [
        "EPOCHS = 10\n",
        "\n",
        "tf.random.set_seed(42)\n",
        "history = model.fit(X_train, y_train, validation_data=(X_val, y_val), epochs=EPOCHS, verbose=1)"
      ],
      "metadata": {
        "colab": {
          "base_uri": "https://localhost:8080/"
        },
        "id": "zi9q00Kq7uJd",
        "outputId": "36533564-edc5-4618-95c6-21962ad7736d"
      },
      "execution_count": 39,
      "outputs": [
        {
          "output_type": "stream",
          "name": "stdout",
          "text": [
            "Epoch 1/10\n",
            "1532/1532 [==============================] - 11s 6ms/step - loss: 0.8033 - accuracy: 0.7421 - val_loss: 0.1801 - val_accuracy: 0.9473\n",
            "Epoch 2/10\n",
            "1532/1532 [==============================] - 8s 5ms/step - loss: 0.1299 - accuracy: 0.9610 - val_loss: 0.1093 - val_accuracy: 0.9679\n",
            "Epoch 3/10\n",
            "1532/1532 [==============================] - 8s 5ms/step - loss: 0.0858 - accuracy: 0.9738 - val_loss: 0.0935 - val_accuracy: 0.9702\n",
            "Epoch 4/10\n",
            "1532/1532 [==============================] - 8s 5ms/step - loss: 0.0672 - accuracy: 0.9788 - val_loss: 0.0839 - val_accuracy: 0.9744\n",
            "Epoch 5/10\n",
            "1532/1532 [==============================] - 8s 5ms/step - loss: 0.0553 - accuracy: 0.9831 - val_loss: 0.0663 - val_accuracy: 0.9800\n",
            "Epoch 6/10\n",
            "1532/1532 [==============================] - 8s 5ms/step - loss: 0.0466 - accuracy: 0.9854 - val_loss: 0.0670 - val_accuracy: 0.9797\n",
            "Epoch 7/10\n",
            "1532/1532 [==============================] - 8s 5ms/step - loss: 0.0406 - accuracy: 0.9873 - val_loss: 0.0567 - val_accuracy: 0.9826\n",
            "Epoch 8/10\n",
            "1532/1532 [==============================] - 8s 5ms/step - loss: 0.0354 - accuracy: 0.9890 - val_loss: 0.0586 - val_accuracy: 0.9832\n",
            "Epoch 9/10\n",
            "1532/1532 [==============================] - 8s 5ms/step - loss: 0.0308 - accuracy: 0.9904 - val_loss: 0.0525 - val_accuracy: 0.9850\n",
            "Epoch 10/10\n",
            "1532/1532 [==============================] - 8s 5ms/step - loss: 0.0269 - accuracy: 0.9917 - val_loss: 0.0558 - val_accuracy: 0.9833\n"
          ]
        }
      ]
    },
    {
      "cell_type": "markdown",
      "source": [
        "# Model Evaluation"
      ],
      "metadata": {
        "id": "sxmyAUfJfgcb"
      }
    },
    {
      "cell_type": "code",
      "source": [
        "accuracy = history.history['accuracy']\n",
        "val_accuracy = history.history['val_accuracy']\n",
        "loss = history.history['loss']\n",
        "val_loss = history.history['val_loss']\n",
        "\n",
        "epochs = range(1, len(accuracy) + 1)\n",
        "\n",
        "# Plot training accuracy\n",
        "plt.figure(figsize=(12, 4))\n",
        "plt.subplot(1, 2, 1)\n",
        "plt.plot(epochs, accuracy, 'r', label='Training Accuracy')\n",
        "plt.plot(epochs, val_accuracy, 'b', label='Training Val Accuracy')\n",
        "plt.title('Training Accuracy')\n",
        "plt.xlabel('Epochs')\n",
        "plt.ylabel('Accuracy')\n",
        "plt.legend()\n",
        "\n",
        "# Plot training loss\n",
        "plt.subplot(1, 2, 2)\n",
        "plt.plot(epochs, loss, 'r', label='Training Loss')\n",
        "plt.plot(epochs, val_loss, 'b', label='Training Val Loss')\n",
        "plt.title('Training Loss')\n",
        "plt.xlabel('Epochs')\n",
        "plt.ylabel('Loss')\n",
        "plt.legend()\n",
        "\n",
        "plt.tight_layout()\n",
        "plt.show()"
      ],
      "metadata": {
        "colab": {
          "base_uri": "https://localhost:8080/",
          "height": 334
        },
        "id": "peFiazpIlQO-",
        "outputId": "01398b72-ba3e-4db8-e4da-5f74db30e8b2"
      },
      "execution_count": 40,
      "outputs": [
        {
          "output_type": "display_data",
          "data": {
            "text/plain": [
              "<Figure size 1200x400 with 2 Axes>"
            ],
            "image/png": "[encoded data removed]"
          },
          "metadata": {}
        }
      ]
    },
    {
      "cell_type": "code",
      "execution_count": 41,
      "metadata": {
        "id": "DnNQvhSEgXdq",
        "colab": {
          "base_uri": "https://localhost:8080/"
        },
        "outputId": "69906847-2a71-4a9e-d683-c5ce63c1811f"
      },
      "outputs": [
        {
          "output_type": "stream",
          "name": "stdout",
          "text": [
            "329/329 [==============================] - 1s 3ms/step - loss: 0.0455 - accuracy: 0.9853\n"
          ]
        }
      ],
      "source": [
        "score = model.evaluate(X_test, y_test)"
      ]
    },
    {
      "cell_type": "code",
      "source": [
        "score"
      ],
      "metadata": {
        "colab": {
          "base_uri": "https://localhost:8080/"
        },
        "id": "KFAYHrwH3AMJ",
        "outputId": "e2ec45ba-85f9-4830-9bba-f38b7b94cf36"
      },
      "execution_count": 42,
      "outputs": [
        {
          "output_type": "execute_result",
          "data": {
            "text/plain": [
              "[0.04547519609332085, 0.9853333234786987]"
            ]
          },
          "metadata": {},
          "execution_count": 42
        }
      ]
    },
    {
      "cell_type": "markdown",
      "source": [
        "# Save model's parameters"
      ],
      "metadata": {
        "id": "TGiRPXhqggLA"
      }
    },
    {
      "cell_type": "code",
      "source": [
        "# model.save_weights('./model_checkpoint/')\n",
        "# model.load_weights('./model_checkpoint/')\n"
      ],
      "metadata": {
        "id": "HVCPFWGZ91lN"
      },
      "execution_count": 53,
      "outputs": []
    },
    {
      "cell_type": "code",
      "source": [
        "model.predict(X_test[5].reshape(-1,28,28,1)).argmax()"
      ],
      "metadata": {
        "colab": {
          "base_uri": "https://localhost:8080/"
        },
        "id": "iWWGnaF13bM1",
        "outputId": "e8f72b65-5046-4175-dc0b-da658f721d9f"
      },
      "execution_count": 44,
      "outputs": [
        {
          "output_type": "stream",
          "name": "stdout",
          "text": [
            "1/1 [==============================] - 0s 73ms/step\n"
          ]
        },
        {
          "output_type": "execute_result",
          "data": {
            "text/plain": [
              "5"
            ]
          },
          "metadata": {},
          "execution_count": 44
        }
      ]
    },
    {
      "cell_type": "code",
      "source": [
        "plt.imshow(X_test[5], cmap=\"gray\")"
      ],
      "metadata": {
        "colab": {
          "base_uri": "https://localhost:8080/",
          "height": 447
        },
        "id": "aQKq-ux2xUKn",
        "outputId": "2d9b1cff-8db0-40c5-ac3f-db1aac2ad5d4"
      },
      "execution_count": 45,
      "outputs": [
        {
          "output_type": "execute_result",
          "data": {
            "text/plain": [
              "<matplotlib.image.AxesImage at 0x7cbb5e157e50>"
            ]
          },
          "metadata": {},
          "execution_count": 45
        },
        {
          "output_type": "display_data",
          "data": {
            "text/plain": [
              "<Figure size 640x480 with 1 Axes>"
            ],
            "image/png": "[encoded data removed]"
          },
          "metadata": {}
        }
      ]
    },
    {
      "cell_type": "code",
      "source": [
        "visualkeras.layered_view(model, legend=True)"
      ],
      "metadata": {
        "colab": {
          "base_uri": "https://localhost:8080/",
          "height": 229
        },
        "id": "4e6yGJN7pHh0",
        "outputId": "b99aa944-2e2c-49ba-f4b6-550c3b72e53a"
      },
      "execution_count": 50,
      "outputs": [
        {
          "output_type": "execute_result",
          "data": {
            "text/plain": [
              "<PIL.Image.Image image mode=RGBA size=292x212>"
            ],
            "image/png": "[encoded data removed]"
          },
          "metadata": {},
          "execution_count": 50
        }
      ]
    }
  ],
  "metadata": {
    "colab": {
      "provenance": [],
      "gpuType": "T4",
      "authorship_tag": "ABX9TyNNgzTeueoJYxQw7ACaC5+6",
      "include_colab_link": true
    },
    "kernelspec": {
      "display_name": "Python 3",
      "name": "python3"
    },
    "language_info": {
      "name": "python"
    },
    "accelerator": "GPU"
  },
  "nbformat": 4,
  "nbformat_minor": 0
}